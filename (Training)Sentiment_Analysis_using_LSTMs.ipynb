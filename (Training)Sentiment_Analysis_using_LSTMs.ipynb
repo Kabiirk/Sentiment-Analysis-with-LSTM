{
  "nbformat": 4,
  "nbformat_minor": 0,
  "metadata": {
    "colab": {
      "name": "(Training)Sentiment Analysis using LSTMs",
      "provenance": [],
      "collapsed_sections": []
    },
    "kernelspec": {
      "name": "python3",
      "display_name": "Python 3"
    },
    "accelerator": "GPU"
  },
  "cells": [
    {
      "cell_type": "code",
      "metadata": {
        "id": "OOZym_c2u0o-",
        "outputId": "14007808-d463-4604-d559-0b40284ec647",
        "colab": {
          "base_uri": "https://localhost:8080/",
          "height": 53
        }
      },
      "source": [
        "import csv\n",
        "import pandas as pd\n",
        "import tensorflow as tf\n",
        "import numpy as np\n",
        "from tensorflow.keras.preprocessing.text import Tokenizer\n",
        "from tensorflow.keras.preprocessing.sequence import pad_sequences\n",
        "import nltk\n",
        "nltk.download(\"stopwords\")\n",
        "from nltk.corpus import stopwords\n",
        "STOPWORDS = set(stopwords.words('english'))"
      ],
      "execution_count": null,
      "outputs": [
        {
          "output_type": "stream",
          "text": [
            "[nltk_data] Downloading package stopwords to /root/nltk_data...\n",
            "[nltk_data]   Package stopwords is already up-to-date!\n"
          ],
          "name": "stdout"
        }
      ]
    },
    {
      "cell_type": "code",
      "metadata": {
        "id": "KCinmfmHu7Y1",
        "outputId": "de3fc3d8-4c75-43d8-c2a8-fde83287a488",
        "colab": {
          "base_uri": "https://localhost:8080/",
          "height": 35
        }
      },
      "source": [
        "from google.colab import drive\n",
        "drive.mount('/content/drive')"
      ],
      "execution_count": null,
      "outputs": [
        {
          "output_type": "stream",
          "text": [
            "Drive already mounted at /content/drive; to attempt to forcibly remount, call drive.mount(\"/content/drive\", force_remount=True).\n"
          ],
          "name": "stdout"
        }
      ]
    },
    {
      "cell_type": "code",
      "metadata": {
        "id": "DN86uuUvvLKB"
      },
      "source": [
        "#reading the data\n",
        "spray = pd.read_csv(\"/content/drive/My Drive/nndl/spray_sanitized.csv\")\n",
        "concat = pd.read_csv(\"/content/drive/My Drive/nndl/concat.csv\")\n",
        "concat.drop('Unnamed: 0', axis='columns', inplace=True)"
      ],
      "execution_count": null,
      "outputs": []
    },
    {
      "cell_type": "code",
      "metadata": {
        "id": "vxCFoMoOvNvD",
        "outputId": "68ae12e2-1697-4714-d6da-499f17950139",
        "colab": {
          "base_uri": "https://localhost:8080/",
          "height": 539
        }
      },
      "source": [
        "print(spray.head(10))\n",
        "print(\"\\n\")\n",
        "print(concat.head(10))\n",
        "print(len(concat))"
      ],
      "execution_count": null,
      "outputs": [
        {
          "output_type": "stream",
          "text": [
            "   Unnamed: 0  ... Stars\n",
            "0           0  ...     1\n",
            "1           1  ...     4\n",
            "2           2  ...     5\n",
            "3           3  ...     5\n",
            "4           4  ...     5\n",
            "5           5  ...     1\n",
            "6           6  ...     1\n",
            "7           7  ...     1\n",
            "8           8  ...     2\n",
            "9           9  ...     1\n",
            "\n",
            "[10 rows x 5 columns]\n",
            "\n",
            "\n",
            "         Date  ...   Overall\n",
            "0  2020-05-18  ...  Negative\n",
            "1  2020-05-15  ...  Positive\n",
            "2  2020-05-23  ...  Positive\n",
            "3  2020-05-22  ...  Positive\n",
            "4  2020-05-14  ...   Neutral\n",
            "5  2020-05-17  ...   Neutral\n",
            "6  2020-05-30  ...  Positive\n",
            "7  2020-05-17  ...  Positive\n",
            "8  2020-05-18  ...  Positive\n",
            "9  2020-05-18  ...  Positive\n",
            "\n",
            "[10 rows x 9 columns]\n",
            "2559\n"
          ],
          "name": "stdout"
        }
      ]
    },
    {
      "cell_type": "code",
      "metadata": {
        "id": "rPoVYWqfHtDw",
        "outputId": "3c0a27c3-d2e3-41a5-8d11-4523f44310f5",
        "colab": {
          "base_uri": "https://localhost:8080/",
          "height": 575
        }
      },
      "source": [
        "neg = concat.loc[concat['Overall']==\"Negative\"]\n",
        "print(len(neg))\n",
        "\n",
        "pos = concat.loc[concat['Overall']==\"Positive\"]\n",
        "print(len(pos))\n",
        "\n",
        "pos_714 = pos.head(len(neg))\n",
        "print(pos_714)\n",
        "\n",
        "neu = concat.loc[concat['Overall']==\"Neutral\"]\n",
        "print(len(neu))\n",
        "neu_204 = neu.head(len(neg))\n",
        "print(neu_204)\n",
        "\n",
        "stack = pd.concat([neg, pos_714, neu ], axis=0)"
      ],
      "execution_count": null,
      "outputs": [
        {
          "output_type": "stream",
          "text": [
            "714\n",
            "1449\n",
            "            Date  ...   Overall\n",
            "1     2020-05-15  ...  Positive\n",
            "2     2020-05-23  ...  Positive\n",
            "3     2020-05-22  ...  Positive\n",
            "6     2020-05-30  ...  Positive\n",
            "7     2020-05-17  ...  Positive\n",
            "...          ...  ...       ...\n",
            "1137  2020-07-11  ...  Positive\n",
            "1139  2020-07-11  ...  Positive\n",
            "1140  2020-07-12  ...  Positive\n",
            "1142  2020-07-07  ...  Positive\n",
            "1145  2020-05-29  ...  Positive\n",
            "\n",
            "[714 rows x 9 columns]\n",
            "396\n",
            "            Date  ...  Overall\n",
            "4     2020-05-14  ...  Neutral\n",
            "5     2020-05-17  ...  Neutral\n",
            "34    2020-05-20  ...  Neutral\n",
            "37    2020-05-20  ...  Neutral\n",
            "48    2020-05-23  ...  Neutral\n",
            "...          ...  ...      ...\n",
            "2529  2020-07-03  ...  Neutral\n",
            "2534  2020-07-22  ...  Neutral\n",
            "2535  2020-05-30  ...  Neutral\n",
            "2545  2020-08-18  ...  Neutral\n",
            "2557  2020-08-18  ...  Neutral\n",
            "\n",
            "[396 rows x 9 columns]\n"
          ],
          "name": "stdout"
        }
      ]
    },
    {
      "cell_type": "code",
      "metadata": {
        "id": "0HV2f5L-HtKS",
        "outputId": "faf13f97-116d-4b35-d246-7a7093a4cebf",
        "colab": {
          "base_uri": "https://localhost:8080/",
          "height": 419
        }
      },
      "source": [
        "stack"
      ],
      "execution_count": null,
      "outputs": [
        {
          "output_type": "execute_result",
          "data": {
            "text/html": [
              "<div>\n",
              "<style scoped>\n",
              "    .dataframe tbody tr th:only-of-type {\n",
              "        vertical-align: middle;\n",
              "    }\n",
              "\n",
              "    .dataframe tbody tr th {\n",
              "        vertical-align: top;\n",
              "    }\n",
              "\n",
              "    .dataframe thead th {\n",
              "        text-align: right;\n",
              "    }\n",
              "</style>\n",
              "<table border=\"1\" class=\"dataframe\">\n",
              "  <thead>\n",
              "    <tr style=\"text-align: right;\">\n",
              "      <th></th>\n",
              "      <th>Date</th>\n",
              "      <th>Review_text</th>\n",
              "      <th>Review_title</th>\n",
              "      <th>Stars</th>\n",
              "      <th>Positive</th>\n",
              "      <th>Negative</th>\n",
              "      <th>Neutral</th>\n",
              "      <th>Compound</th>\n",
              "      <th>Overall</th>\n",
              "    </tr>\n",
              "  </thead>\n",
              "  <tbody>\n",
              "    <tr>\n",
              "      <th>0</th>\n",
              "      <td>2020-05-18</td>\n",
              "      <td>Not same as shown in the picture of product de...</td>\n",
              "      <td>Duplicate????????</td>\n",
              "      <td>1</td>\n",
              "      <td>0.000</td>\n",
              "      <td>0.098</td>\n",
              "      <td>0.902</td>\n",
              "      <td>-0.2411</td>\n",
              "      <td>Negative</td>\n",
              "    </tr>\n",
              "    <tr>\n",
              "      <th>15</th>\n",
              "      <td>2020-05-28</td>\n",
              "      <td>The product is fake I have a smaller bottle of...</td>\n",
              "      <td>Duplicate sanitizer</td>\n",
              "      <td>1</td>\n",
              "      <td>0.039</td>\n",
              "      <td>0.271</td>\n",
              "      <td>0.690</td>\n",
              "      <td>-0.9022</td>\n",
              "      <td>Negative</td>\n",
              "    </tr>\n",
              "    <tr>\n",
              "      <th>22</th>\n",
              "      <td>2020-05-20</td>\n",
              "      <td>Duplicate sanitizer.There is no typical lifebu...</td>\n",
              "      <td>Fake product</td>\n",
              "      <td>1</td>\n",
              "      <td>0.000</td>\n",
              "      <td>0.268</td>\n",
              "      <td>0.732</td>\n",
              "      <td>-0.2960</td>\n",
              "      <td>Negative</td>\n",
              "    </tr>\n",
              "    <tr>\n",
              "      <th>38</th>\n",
              "      <td>2020-07-04</td>\n",
              "      <td>Bad scent, very different from 60 ml I used ea...</td>\n",
              "      <td>Much different from 60 ml packaging bought in ...</td>\n",
              "      <td>2</td>\n",
              "      <td>0.064</td>\n",
              "      <td>0.220</td>\n",
              "      <td>0.716</td>\n",
              "      <td>-0.7263</td>\n",
              "      <td>Negative</td>\n",
              "    </tr>\n",
              "    <tr>\n",
              "      <th>47</th>\n",
              "      <td>2020-07-11</td>\n",
              "      <td>The brand is sufficient to trust the quality. ...</td>\n",
              "      <td>Brand is sufficient</td>\n",
              "      <td>5</td>\n",
              "      <td>0.033</td>\n",
              "      <td>0.040</td>\n",
              "      <td>0.927</td>\n",
              "      <td>-0.1280</td>\n",
              "      <td>Negative</td>\n",
              "    </tr>\n",
              "    <tr>\n",
              "      <th>...</th>\n",
              "      <td>...</td>\n",
              "      <td>...</td>\n",
              "      <td>...</td>\n",
              "      <td>...</td>\n",
              "      <td>...</td>\n",
              "      <td>...</td>\n",
              "      <td>...</td>\n",
              "      <td>...</td>\n",
              "      <td>...</td>\n",
              "    </tr>\n",
              "    <tr>\n",
              "      <th>2529</th>\n",
              "      <td>2020-07-03</td>\n",
              "      <td>OK_hand</td>\n",
              "      <td>thumbs_up  thumbs_up</td>\n",
              "      <td>5</td>\n",
              "      <td>0.000</td>\n",
              "      <td>0.000</td>\n",
              "      <td>1.000</td>\n",
              "      <td>0.0000</td>\n",
              "      <td>Neutral</td>\n",
              "    </tr>\n",
              "    <tr>\n",
              "      <th>2534</th>\n",
              "      <td>2020-07-22</td>\n",
              "      <td>One stock was not having a bottle on it</td>\n",
              "      <td>Product delivered in not good condition</td>\n",
              "      <td>1</td>\n",
              "      <td>0.000</td>\n",
              "      <td>0.000</td>\n",
              "      <td>1.000</td>\n",
              "      <td>0.0000</td>\n",
              "      <td>Neutral</td>\n",
              "    </tr>\n",
              "    <tr>\n",
              "      <th>2535</th>\n",
              "      <td>2020-05-30</td>\n",
              "      <td>Expensive</td>\n",
              "      <td>Expensive</td>\n",
              "      <td>3</td>\n",
              "      <td>0.000</td>\n",
              "      <td>0.000</td>\n",
              "      <td>1.000</td>\n",
              "      <td>0.0000</td>\n",
              "      <td>Neutral</td>\n",
              "    </tr>\n",
              "    <tr>\n",
              "      <th>2545</th>\n",
              "      <td>2020-08-18</td>\n",
              "      <td>Less quantity..better to go for rub or liquid</td>\n",
              "      <td>Quantity less</td>\n",
              "      <td>3</td>\n",
              "      <td>0.000</td>\n",
              "      <td>0.000</td>\n",
              "      <td>1.000</td>\n",
              "      <td>0.0000</td>\n",
              "      <td>Neutral</td>\n",
              "    </tr>\n",
              "    <tr>\n",
              "      <th>2557</th>\n",
              "      <td>2020-08-18</td>\n",
              "      <td>This spray is very handy for us for Covid 19</td>\n",
              "      <td>Excellent disinfectant spray</td>\n",
              "      <td>5</td>\n",
              "      <td>0.000</td>\n",
              "      <td>0.000</td>\n",
              "      <td>1.000</td>\n",
              "      <td>0.0000</td>\n",
              "      <td>Neutral</td>\n",
              "    </tr>\n",
              "  </tbody>\n",
              "</table>\n",
              "<p>1824 rows × 9 columns</p>\n",
              "</div>"
            ],
            "text/plain": [
              "            Date  ...   Overall\n",
              "0     2020-05-18  ...  Negative\n",
              "15    2020-05-28  ...  Negative\n",
              "22    2020-05-20  ...  Negative\n",
              "38    2020-07-04  ...  Negative\n",
              "47    2020-07-11  ...  Negative\n",
              "...          ...  ...       ...\n",
              "2529  2020-07-03  ...   Neutral\n",
              "2534  2020-07-22  ...   Neutral\n",
              "2535  2020-05-30  ...   Neutral\n",
              "2545  2020-08-18  ...   Neutral\n",
              "2557  2020-08-18  ...   Neutral\n",
              "\n",
              "[1824 rows x 9 columns]"
            ]
          },
          "metadata": {
            "tags": []
          },
          "execution_count": 33
        }
      ]
    },
    {
      "cell_type": "code",
      "metadata": {
        "id": "2mMEubDNHs7B",
        "outputId": "30ab4c15-2778-47b4-f2d2-5fecd902ff63",
        "colab": {
          "base_uri": "https://localhost:8080/",
          "height": 269
        }
      },
      "source": [
        "from sklearn.utils import shuffle\n",
        "stack = shuffle(stack)\n",
        "print(stack)"
      ],
      "execution_count": null,
      "outputs": [
        {
          "output_type": "stream",
          "text": [
            "            Date  ...   Overall\n",
            "651   2020-05-27  ...  Positive\n",
            "477   2020-05-18  ...  Positive\n",
            "641   2020-06-18  ...  Positive\n",
            "1992  2020-06-20  ...  Negative\n",
            "1566  2020-08-17  ...  Negative\n",
            "...          ...  ...       ...\n",
            "2297  2020-07-16  ...   Neutral\n",
            "1096  2020-05-20  ...  Negative\n",
            "939   2020-05-27  ...  Positive\n",
            "862   2020-08-18  ...  Positive\n",
            "1117  2020-05-22  ...  Negative\n",
            "\n",
            "[1824 rows x 9 columns]\n"
          ],
          "name": "stdout"
        }
      ]
    },
    {
      "cell_type": "code",
      "metadata": {
        "id": "977KOTctwVdZ",
        "outputId": "fd39c5aa-b381-4f33-86d1-4a60dfd71fa5",
        "colab": {
          "base_uri": "https://localhost:8080/",
          "height": 71
        }
      },
      "source": [
        "'''\n",
        "from numpy import array\n",
        "from numpy import asarray\n",
        "from numpy import zeros\n",
        "\n",
        "embeddings_dictionary = dict()\n",
        "glove_file = open('/content/drive/My Drive/nndl/glove.6B.100d.txt', encoding=\"utf8\")\n",
        "\n",
        "for line in glove_file:\n",
        "    records = line.split()\n",
        "    word = records[0]\n",
        "    vector_dimensions = asarray(records[1:], dtype='float32')\n",
        "    embeddings_dictionary [word] = vector_dimensions\n",
        "glove_file.close()\n",
        "'''"
      ],
      "execution_count": null,
      "outputs": [
        {
          "output_type": "execute_result",
          "data": {
            "application/vnd.google.colaboratory.intrinsic+json": {
              "type": "string"
            },
            "text/plain": [
              "'\\nfrom numpy import array\\nfrom numpy import asarray\\nfrom numpy import zeros\\n\\nembeddings_dictionary = dict()\\nglove_file = open(\\'/content/drive/My Drive/nndl/glove.6B.100d.txt\\', encoding=\"utf8\")\\n\\nfor line in glove_file:\\n    records = line.split()\\n    word = records[0]\\n    vector_dimensions = asarray(records[1:], dtype=\\'float32\\')\\n    embeddings_dictionary [word] = vector_dimensions\\nglove_file.close()\\n'"
            ]
          },
          "metadata": {
            "tags": []
          },
          "execution_count": 35
        }
      ]
    },
    {
      "cell_type": "code",
      "metadata": {
        "id": "sqeCBOQtt0xI"
      },
      "source": [
        "vocab_size = 5000\n",
        "embedding_dim = 64\n",
        "max_length = 1000\n",
        "trunc_type = 'post'\n",
        "padding_type = 'post'\n",
        "oov_tok = '<OOV>'\n",
        "training_portion = .8"
      ],
      "execution_count": null,
      "outputs": []
    },
    {
      "cell_type": "code",
      "metadata": {
        "id": "s8mfMSdJt8jm",
        "outputId": "ee4872a5-7241-4ce0-9a0e-0003715674d5",
        "colab": {
          "base_uri": "https://localhost:8080/",
          "height": 53
        }
      },
      "source": [
        "articles = []\n",
        "labels = []\n",
        "\n",
        "for i in list(concat[\"Review_text\"]):\n",
        "    article = str(i)\n",
        "    for word in STOPWORDS:\n",
        "            token = ' ' + word + ' '\n",
        "            article = article.replace(token, ' ')\n",
        "            article = article.replace(' ', ' ')\n",
        "    articles.append(article)\n",
        "\n",
        "for j in list(concat[\"Overall\"]):\n",
        "    labels.append(j)\n",
        "\n",
        "print(len(articles))\n",
        "print(len(labels))"
      ],
      "execution_count": null,
      "outputs": [
        {
          "output_type": "stream",
          "text": [
            "2559\n",
            "2559\n"
          ],
          "name": "stdout"
        }
      ]
    },
    {
      "cell_type": "code",
      "metadata": {
        "id": "WpZ4wlL7m__P",
        "outputId": "f4028dc3-e816-4db1-dece-9a39e504a917",
        "colab": {
          "base_uri": "https://localhost:8080/",
          "height": 35
        }
      },
      "source": [
        "le = []\n",
        "for i in articles:\n",
        "    le.append(len(i))\n",
        "print(max(le))"
      ],
      "execution_count": null,
      "outputs": [
        {
          "output_type": "stream",
          "text": [
            "995\n"
          ],
          "name": "stdout"
        }
      ]
    },
    {
      "cell_type": "code",
      "metadata": {
        "id": "v227KmLtuYXN",
        "outputId": "d5d80f4d-cf2b-4df3-9bcf-3102ddb16060",
        "colab": {
          "base_uri": "https://localhost:8080/",
          "height": 107
        }
      },
      "source": [
        "train_size = int(len(articles) * training_portion)\n",
        "\n",
        "train_articles = articles[0: train_size]\n",
        "train_labels = labels[0: train_size]\n",
        "\n",
        "validation_articles = articles[train_size:]\n",
        "validation_labels = labels[train_size:]\n",
        "\n",
        "print(train_size)\n",
        "print(len(train_articles))\n",
        "print(len(train_labels))\n",
        "print(len(validation_articles))\n",
        "print(len(validation_labels))"
      ],
      "execution_count": null,
      "outputs": [
        {
          "output_type": "stream",
          "text": [
            "2047\n",
            "2047\n",
            "2047\n",
            "512\n",
            "512\n"
          ],
          "name": "stdout"
        }
      ]
    },
    {
      "cell_type": "code",
      "metadata": {
        "id": "8QXCCqaHud8A",
        "outputId": "cc9dcda9-1356-41c4-c4cf-cae92133858e",
        "colab": {
          "base_uri": "https://localhost:8080/",
          "height": 197
        }
      },
      "source": [
        "tokenizer = Tokenizer(num_words = vocab_size, oov_token=oov_tok)\n",
        "tokenizer.fit_on_texts(train_articles)\n",
        "word_index = tokenizer.word_index\n",
        "dict(list(word_index.items())[0:10])"
      ],
      "execution_count": null,
      "outputs": [
        {
          "output_type": "execute_result",
          "data": {
            "text/plain": [
              "{'<OOV>': 1,\n",
              " 'bottle': 8,\n",
              " 'good': 3,\n",
              " 'i': 4,\n",
              " 'it': 6,\n",
              " 'one': 10,\n",
              " 'product': 2,\n",
              " 'sanitizer': 5,\n",
              " 'the': 7,\n",
              " 'use': 9}"
            ]
          },
          "metadata": {
            "tags": []
          },
          "execution_count": 40
        }
      ]
    },
    {
      "cell_type": "code",
      "metadata": {
        "id": "6XCwVjzLvB2W",
        "outputId": "bd9ff2b4-6782-405e-a9d6-93fa66f6ca97",
        "colab": {
          "base_uri": "https://localhost:8080/",
          "height": 35
        }
      },
      "source": [
        "train_sequences = tokenizer.texts_to_sequences(train_articles)\n",
        "print(train_sequences[10])"
      ],
      "execution_count": null,
      "outputs": [
        {
          "output_type": "stream",
          "text": [
            "[33, 40, 2, 679, 4, 58, 41, 5, 526, 2, 103, 26, 16, 84, 132, 9, 305, 101, 189, 598, 427, 18, 4, 476, 22, 2]\n"
          ],
          "name": "stdout"
        }
      ]
    },
    {
      "cell_type": "code",
      "metadata": {
        "id": "QkETh7M6vHLA",
        "outputId": "d2821818-745e-474f-d93e-8b3367f78393",
        "colab": {
          "base_uri": "https://localhost:8080/",
          "height": 125
        }
      },
      "source": [
        "train_padded = pad_sequences(train_sequences, maxlen=max_length, padding=padding_type, truncating=trunc_type)\n",
        "print(len(train_sequences[0]))\n",
        "print(len(train_padded[0]))\n",
        "\n",
        "print(len(train_sequences[1]))\n",
        "print(len(train_padded[1]))\n",
        "\n",
        "print(len(train_sequences[10]))\n",
        "print(len(train_padded[10]))"
      ],
      "execution_count": null,
      "outputs": [
        {
          "output_type": "stream",
          "text": [
            "11\n",
            "1000\n",
            "43\n",
            "1000\n",
            "26\n",
            "1000\n"
          ],
          "name": "stdout"
        }
      ]
    },
    {
      "cell_type": "code",
      "metadata": {
        "id": "eSH88cmQvMWD",
        "outputId": "1db286be-fdb9-4098-b73a-a5340b22bfc9",
        "colab": {
          "base_uri": "https://localhost:8080/",
          "height": 1000
        }
      },
      "source": [
        "print(train_padded[10])"
      ],
      "execution_count": null,
      "outputs": [
        {
          "output_type": "stream",
          "text": [
            "[ 33  40   2 679   4  58  41   5 526   2 103  26  16  84 132   9 305 101\n",
            " 189 598 427  18   4 476  22   2   0   0   0   0   0   0   0   0   0   0\n",
            "   0   0   0   0   0   0   0   0   0   0   0   0   0   0   0   0   0   0\n",
            "   0   0   0   0   0   0   0   0   0   0   0   0   0   0   0   0   0   0\n",
            "   0   0   0   0   0   0   0   0   0   0   0   0   0   0   0   0   0   0\n",
            "   0   0   0   0   0   0   0   0   0   0   0   0   0   0   0   0   0   0\n",
            "   0   0   0   0   0   0   0   0   0   0   0   0   0   0   0   0   0   0\n",
            "   0   0   0   0   0   0   0   0   0   0   0   0   0   0   0   0   0   0\n",
            "   0   0   0   0   0   0   0   0   0   0   0   0   0   0   0   0   0   0\n",
            "   0   0   0   0   0   0   0   0   0   0   0   0   0   0   0   0   0   0\n",
            "   0   0   0   0   0   0   0   0   0   0   0   0   0   0   0   0   0   0\n",
            "   0   0   0   0   0   0   0   0   0   0   0   0   0   0   0   0   0   0\n",
            "   0   0   0   0   0   0   0   0   0   0   0   0   0   0   0   0   0   0\n",
            "   0   0   0   0   0   0   0   0   0   0   0   0   0   0   0   0   0   0\n",
            "   0   0   0   0   0   0   0   0   0   0   0   0   0   0   0   0   0   0\n",
            "   0   0   0   0   0   0   0   0   0   0   0   0   0   0   0   0   0   0\n",
            "   0   0   0   0   0   0   0   0   0   0   0   0   0   0   0   0   0   0\n",
            "   0   0   0   0   0   0   0   0   0   0   0   0   0   0   0   0   0   0\n",
            "   0   0   0   0   0   0   0   0   0   0   0   0   0   0   0   0   0   0\n",
            "   0   0   0   0   0   0   0   0   0   0   0   0   0   0   0   0   0   0\n",
            "   0   0   0   0   0   0   0   0   0   0   0   0   0   0   0   0   0   0\n",
            "   0   0   0   0   0   0   0   0   0   0   0   0   0   0   0   0   0   0\n",
            "   0   0   0   0   0   0   0   0   0   0   0   0   0   0   0   0   0   0\n",
            "   0   0   0   0   0   0   0   0   0   0   0   0   0   0   0   0   0   0\n",
            "   0   0   0   0   0   0   0   0   0   0   0   0   0   0   0   0   0   0\n",
            "   0   0   0   0   0   0   0   0   0   0   0   0   0   0   0   0   0   0\n",
            "   0   0   0   0   0   0   0   0   0   0   0   0   0   0   0   0   0   0\n",
            "   0   0   0   0   0   0   0   0   0   0   0   0   0   0   0   0   0   0\n",
            "   0   0   0   0   0   0   0   0   0   0   0   0   0   0   0   0   0   0\n",
            "   0   0   0   0   0   0   0   0   0   0   0   0   0   0   0   0   0   0\n",
            "   0   0   0   0   0   0   0   0   0   0   0   0   0   0   0   0   0   0\n",
            "   0   0   0   0   0   0   0   0   0   0   0   0   0   0   0   0   0   0\n",
            "   0   0   0   0   0   0   0   0   0   0   0   0   0   0   0   0   0   0\n",
            "   0   0   0   0   0   0   0   0   0   0   0   0   0   0   0   0   0   0\n",
            "   0   0   0   0   0   0   0   0   0   0   0   0   0   0   0   0   0   0\n",
            "   0   0   0   0   0   0   0   0   0   0   0   0   0   0   0   0   0   0\n",
            "   0   0   0   0   0   0   0   0   0   0   0   0   0   0   0   0   0   0\n",
            "   0   0   0   0   0   0   0   0   0   0   0   0   0   0   0   0   0   0\n",
            "   0   0   0   0   0   0   0   0   0   0   0   0   0   0   0   0   0   0\n",
            "   0   0   0   0   0   0   0   0   0   0   0   0   0   0   0   0   0   0\n",
            "   0   0   0   0   0   0   0   0   0   0   0   0   0   0   0   0   0   0\n",
            "   0   0   0   0   0   0   0   0   0   0   0   0   0   0   0   0   0   0\n",
            "   0   0   0   0   0   0   0   0   0   0   0   0   0   0   0   0   0   0\n",
            "   0   0   0   0   0   0   0   0   0   0   0   0   0   0   0   0   0   0\n",
            "   0   0   0   0   0   0   0   0   0   0   0   0   0   0   0   0   0   0\n",
            "   0   0   0   0   0   0   0   0   0   0   0   0   0   0   0   0   0   0\n",
            "   0   0   0   0   0   0   0   0   0   0   0   0   0   0   0   0   0   0\n",
            "   0   0   0   0   0   0   0   0   0   0   0   0   0   0   0   0   0   0\n",
            "   0   0   0   0   0   0   0   0   0   0   0   0   0   0   0   0   0   0\n",
            "   0   0   0   0   0   0   0   0   0   0   0   0   0   0   0   0   0   0\n",
            "   0   0   0   0   0   0   0   0   0   0   0   0   0   0   0   0   0   0\n",
            "   0   0   0   0   0   0   0   0   0   0   0   0   0   0   0   0   0   0\n",
            "   0   0   0   0   0   0   0   0   0   0   0   0   0   0   0   0   0   0\n",
            "   0   0   0   0   0   0   0   0   0   0   0   0   0   0   0   0   0   0\n",
            "   0   0   0   0   0   0   0   0   0   0   0   0   0   0   0   0   0   0\n",
            "   0   0   0   0   0   0   0   0   0   0]\n"
          ],
          "name": "stdout"
        }
      ]
    },
    {
      "cell_type": "code",
      "metadata": {
        "id": "X5rfNd6HvPwt",
        "outputId": "5bcfd028-1eed-40f7-fdd7-bd33b4c096e9",
        "colab": {
          "base_uri": "https://localhost:8080/",
          "height": 53
        }
      },
      "source": [
        "validation_sequences = tokenizer.texts_to_sequences(validation_articles)\n",
        "validation_padded = pad_sequences(validation_sequences, maxlen=max_length, padding=padding_type, truncating=trunc_type)\n",
        "\n",
        "print(len(validation_sequences))\n",
        "print(validation_padded.shape)"
      ],
      "execution_count": null,
      "outputs": [
        {
          "output_type": "stream",
          "text": [
            "512\n",
            "(512, 1000)\n"
          ],
          "name": "stdout"
        }
      ]
    },
    {
      "cell_type": "code",
      "metadata": {
        "id": "t0DCbecKvUud",
        "outputId": "c1667396-b02a-49ab-d686-9b21799f32e9",
        "colab": {
          "base_uri": "https://localhost:8080/",
          "height": 161
        }
      },
      "source": [
        "label_tokenizer = Tokenizer()\n",
        "label_tokenizer.fit_on_texts(labels)\n",
        "\n",
        "training_label_seq = np.array(label_tokenizer.texts_to_sequences(train_labels))\n",
        "validation_label_seq = np.array(label_tokenizer.texts_to_sequences(validation_labels))\n",
        "print(training_label_seq[0])\n",
        "print(training_label_seq[1])\n",
        "print(training_label_seq[2])\n",
        "print(training_label_seq.shape)\n",
        "\n",
        "print(validation_label_seq[0])\n",
        "print(validation_label_seq[1])\n",
        "print(validation_label_seq[2])\n",
        "print(validation_label_seq.shape)"
      ],
      "execution_count": null,
      "outputs": [
        {
          "output_type": "stream",
          "text": [
            "[2]\n",
            "[1]\n",
            "[1]\n",
            "(2047, 1)\n",
            "[3]\n",
            "[3]\n",
            "[1]\n",
            "(512, 1)\n"
          ],
          "name": "stdout"
        }
      ]
    },
    {
      "cell_type": "code",
      "metadata": {
        "id": "1rmMsg1uvWQg",
        "outputId": "8b8b9acf-d53d-43bc-c031-1bf584cc8ba9",
        "colab": {
          "base_uri": "https://localhost:8080/",
          "height": 91
        }
      },
      "source": [
        "reverse_word_index = dict([(value, key) for (key, value) in word_index.items()])\n",
        "\n",
        "def decode_article(text):\n",
        "    return ' '.join([reverse_word_index.get(i, '?') for i in text])\n",
        "print(decode_article(train_padded[10]))\n",
        "print('---')\n",
        "print(train_articles[10])"
      ],
      "execution_count": null,
      "outputs": [
        {
          "output_type": "stream",
          "text": [
            "it's duplicate product bcoz i using brand sanitizer months product totally different smell even u use make little bit burning feeling hand i suggest buy product ? ? ? ? ? ? ? ? ? ? ? ? ? ? ? ? ? ? ? ? ? ? ? ? ? ? ? ? ? ? ? ? ? ? ? ? ? ? ? ? ? ? ? ? ? ? ? ? ? ? ? ? ? ? ? ? ? ? ? ? ? ? ? ? ? ? ? ? ? ? ? ? ? ? ? ? ? ? ? ? ? ? ? ? ? ? ? ? ? ? ? ? ? ? ? ? ? ? ? ? ? ? ? ? ? ? ? ? ? ? ? ? ? ? ? ? ? ? ? ? ? ? ? ? ? ? ? ? ? ? ? ? ? ? ? ? ? ? ? ? ? ? ? ? ? ? ? ? ? ? ? ? ? ? ? ? ? ? ? ? ? ? ? ? ? ? ? ? ? ? ? ? ? ? ? ? ? ? ? ? ? ? ? ? ? ? ? ? ? ? ? ? ? ? ? ? ? ? ? ? ? ? ? ? ? ? ? ? ? ? ? ? ? ? ? ? ? ? ? ? ? ? ? ? ? ? ? ? ? ? ? ? ? ? ? ? ? ? ? ? ? ? ? ? ? ? ? ? ? ? ? ? ? ? ? ? ? ? ? ? ? ? ? ? ? ? ? ? ? ? ? ? ? ? ? ? ? ? ? ? ? ? ? ? ? ? ? ? ? ? ? ? ? ? ? ? ? ? ? ? ? ? ? ? ? ? ? ? ? ? ? ? ? ? ? ? ? ? ? ? ? ? ? ? ? ? ? ? ? ? ? ? ? ? ? ? ? ? ? ? ? ? ? ? ? ? ? ? ? ? ? ? ? ? ? ? ? ? ? ? ? ? ? ? ? ? ? ? ? ? ? ? ? ? ? ? ? ? ? ? ? ? ? ? ? ? ? ? ? ? ? ? ? ? ? ? ? ? ? ? ? ? ? ? ? ? ? ? ? ? ? ? ? ? ? ? ? ? ? ? ? ? ? ? ? ? ? ? ? ? ? ? ? ? ? ? ? ? ? ? ? ? ? ? ? ? ? ? ? ? ? ? ? ? ? ? ? ? ? ? ? ? ? ? ? ? ? ? ? ? ? ? ? ? ? ? ? ? ? ? ? ? ? ? ? ? ? ? ? ? ? ? ? ? ? ? ? ? ? ? ? ? ? ? ? ? ? ? ? ? ? ? ? ? ? ? ? ? ? ? ? ? ? ? ? ? ? ? ? ? ? ? ? ? ? ? ? ? ? ? ? ? ? ? ? ? ? ? ? ? ? ? ? ? ? ? ? ? ? ? ? ? ? ? ? ? ? ? ? ? ? ? ? ? ? ? ? ? ? ? ? ? ? ? ? ? ? ? ? ? ? ? ? ? ? ? ? ? ? ? ? ? ? ? ? ? ? ? ? ? ? ? ? ? ? ? ? ? ? ? ? ? ? ? ? ? ? ? ? ? ? ? ? ? ? ? ? ? ? ? ? ? ? ? ? ? ? ? ? ? ? ? ? ? ? ? ? ? ? ? ? ? ? ? ? ? ? ? ? ? ? ? ? ? ? ? ? ? ? ? ? ? ? ? ? ? ? ? ? ? ? ? ? ? ? ? ? ? ? ? ? ? ? ? ? ? ? ? ? ? ? ? ? ? ? ? ? ? ? ? ? ? ? ? ? ? ? ? ? ? ? ? ? ? ? ? ? ? ? ? ? ? ? ? ? ? ? ? ? ? ? ? ? ? ? ? ? ? ? ? ? ? ? ? ? ? ? ? ? ? ? ? ? ? ? ? ? ? ? ? ? ? ? ? ? ? ? ? ? ? ? ? ? ? ? ? ? ? ? ? ? ? ? ? ? ? ? ? ? ? ? ? ? ? ? ? ? ? ? ? ? ? ? ? ? ? ? ? ? ? ? ? ? ? ? ? ? ? ? ? ? ? ? ? ? ? ? ? ? ? ? ? ? ? ? ? ? ? ? ? ? ? ? ? ? ? ? ? ? ? ? ? ? ? ? ? ? ? ? ? ? ? ? ? ? ? ? ? ? ? ? ? ? ? ? ? ? ? ? ? ? ? ? ? ? ? ? ? ? ? ? ? ? ? ? ? ? ? ? ? ? ? ? ? ? ? ? ? ? ? ? ? ? ? ? ? ? ? ? ? ? ? ? ? ? ? ? ? ? ? ? ? ? ? ? ? ? ? ? ? ? ? ? ? ? ? ? ? ? ? ? ? ? ?\n",
            "---\n",
            "It's duplicate product ... Bcoz I using brand sanitizer months product totally different smell even u use make little bit burning feeling hand .... I suggest buy product ...\n"
          ],
          "name": "stdout"
        }
      ]
    },
    {
      "cell_type": "code",
      "metadata": {
        "id": "NsZ0PMgd26cp",
        "outputId": "b4cef7d2-ab8c-4c96-b4ac-a1006fc4f26e",
        "colab": {
          "base_uri": "https://localhost:8080/",
          "height": 35
        }
      },
      "source": [
        "embedding_dim"
      ],
      "execution_count": null,
      "outputs": [
        {
          "output_type": "execute_result",
          "data": {
            "text/plain": [
              "64"
            ]
          },
          "metadata": {
            "tags": []
          },
          "execution_count": 20
        }
      ]
    },
    {
      "cell_type": "code",
      "metadata": {
        "id": "4_ScRotZve1Q",
        "outputId": "69b8b39e-2fa9-4c5c-f48e-c8da935dca70",
        "colab": {
          "base_uri": "https://localhost:8080/",
          "height": 341
        }
      },
      "source": [
        "model = tf.keras.Sequential([\n",
        "    # Add an Embedding layer expecting input vocab of size 5000, and output embedding dimension of size 64 we set at the top\n",
        "    tf.keras.layers.Embedding(vocab_size, embedding_dim), # direction of each word learned epoch-by-epoch\n",
        "    tf.keras.layers.Bidirectional(tf.keras.layers.LSTM(embedding_dim)),#, return_sequences=True)),\n",
        "    #tf.keras.layers.Bidirectional(tf.keras.layers.LSTM(32)),\n",
        "    #tf.keras.layers.Bidirectional(tf.keras.layers.LSTM(16)),\n",
        "    # use ReLU in place of tanh function since they are very good alternatives of each other.\n",
        "    tf.keras.layers.Dense(embedding_dim, activation='relu'),\n",
        "    tf.keras.layers.Dropout(.5),\n",
        "    # Add a Dense layer with 6 units and softmax activation.\n",
        "    # When we have multiple outputs, softmax convert outputs layers into a probability distribution.\n",
        "    tf.keras.layers.Dense(6, activation='softmax')\n",
        "])\n",
        "model.summary()"
      ],
      "execution_count": null,
      "outputs": [
        {
          "output_type": "stream",
          "text": [
            "Model: \"sequential_1\"\n",
            "_________________________________________________________________\n",
            "Layer (type)                 Output Shape              Param #   \n",
            "=================================================================\n",
            "embedding_1 (Embedding)      (None, None, 64)          320000    \n",
            "_________________________________________________________________\n",
            "bidirectional_1 (Bidirection (None, 128)               66048     \n",
            "_________________________________________________________________\n",
            "dense_2 (Dense)              (None, 64)                8256      \n",
            "_________________________________________________________________\n",
            "dropout_1 (Dropout)          (None, 64)                0         \n",
            "_________________________________________________________________\n",
            "dense_3 (Dense)              (None, 6)                 390       \n",
            "=================================================================\n",
            "Total params: 394,694\n",
            "Trainable params: 394,694\n",
            "Non-trainable params: 0\n",
            "_________________________________________________________________\n"
          ],
          "name": "stdout"
        }
      ]
    },
    {
      "cell_type": "code",
      "metadata": {
        "id": "hmbl7ePnvi_A",
        "outputId": "f6ead24d-a215-4a20-a1be-4b60f6c61cf5",
        "colab": {
          "base_uri": "https://localhost:8080/",
          "height": 35
        }
      },
      "source": [
        "print(set(labels))"
      ],
      "execution_count": null,
      "outputs": [
        {
          "output_type": "stream",
          "text": [
            "{'Positive', 'Negative', 'Neutral'}\n"
          ],
          "name": "stdout"
        }
      ]
    },
    {
      "cell_type": "code",
      "metadata": {
        "id": "-aA0VyMawF4B",
        "outputId": "bab8fb28-6ef2-4384-a4cc-2ff47ec29606",
        "colab": {
          "base_uri": "https://localhost:8080/",
          "height": 557
        }
      },
      "source": [
        "model.compile(loss='sparse_categorical_crossentropy', optimizer='adam', metrics=['accuracy'])\n",
        "num_epochs = 15\n",
        "history = model.fit(train_padded, training_label_seq, epochs=num_epochs, validation_data=(validation_padded, validation_label_seq), verbose=1)"
      ],
      "execution_count": null,
      "outputs": [
        {
          "output_type": "stream",
          "text": [
            "Epoch 1/15\n",
            "64/64 [==============================] - 5s 83ms/step - loss: 1.1999 - accuracy: 0.5276 - val_loss: 0.9489 - val_accuracy: 0.5547\n",
            "Epoch 2/15\n",
            "64/64 [==============================] - 5s 74ms/step - loss: 0.7918 - accuracy: 0.6834 - val_loss: 0.6818 - val_accuracy: 0.7031\n",
            "Epoch 3/15\n",
            "64/64 [==============================] - 5s 74ms/step - loss: 0.5675 - accuracy: 0.7811 - val_loss: 0.6477 - val_accuracy: 0.7363\n",
            "Epoch 4/15\n",
            "64/64 [==============================] - 5s 74ms/step - loss: 0.4297 - accuracy: 0.8476 - val_loss: 0.6150 - val_accuracy: 0.7656\n",
            "Epoch 5/15\n",
            "64/64 [==============================] - 5s 75ms/step - loss: 0.3447 - accuracy: 0.8862 - val_loss: 0.6512 - val_accuracy: 0.7852\n",
            "Epoch 6/15\n",
            "64/64 [==============================] - 5s 76ms/step - loss: 0.2934 - accuracy: 0.9033 - val_loss: 0.6545 - val_accuracy: 0.7832\n",
            "Epoch 7/15\n",
            "64/64 [==============================] - 5s 75ms/step - loss: 0.3203 - accuracy: 0.8989 - val_loss: 0.5982 - val_accuracy: 0.7852\n",
            "Epoch 8/15\n",
            "64/64 [==============================] - 5s 74ms/step - loss: 0.2352 - accuracy: 0.9248 - val_loss: 0.6723 - val_accuracy: 0.7969\n",
            "Epoch 9/15\n",
            "64/64 [==============================] - 5s 74ms/step - loss: 0.1765 - accuracy: 0.9497 - val_loss: 0.7195 - val_accuracy: 0.8008\n",
            "Epoch 10/15\n",
            "64/64 [==============================] - 5s 75ms/step - loss: 0.1497 - accuracy: 0.9614 - val_loss: 0.7910 - val_accuracy: 0.7969\n",
            "Epoch 11/15\n",
            "64/64 [==============================] - 5s 74ms/step - loss: 0.1181 - accuracy: 0.9702 - val_loss: 0.8696 - val_accuracy: 0.7930\n",
            "Epoch 12/15\n",
            "64/64 [==============================] - 5s 74ms/step - loss: 0.0973 - accuracy: 0.9775 - val_loss: 0.8670 - val_accuracy: 0.8047\n",
            "Epoch 13/15\n",
            "64/64 [==============================] - 5s 75ms/step - loss: 0.0795 - accuracy: 0.9795 - val_loss: 0.9347 - val_accuracy: 0.8066\n",
            "Epoch 14/15\n",
            "64/64 [==============================] - 5s 75ms/step - loss: 0.0711 - accuracy: 0.9829 - val_loss: 0.9243 - val_accuracy: 0.8086\n",
            "Epoch 15/15\n",
            "64/64 [==============================] - 5s 74ms/step - loss: 0.0576 - accuracy: 0.9883 - val_loss: 1.0273 - val_accuracy: 0.8027\n"
          ],
          "name": "stdout"
        }
      ]
    },
    {
      "cell_type": "code",
      "metadata": {
        "id": "diDpmeJPxBos",
        "outputId": "bf6bef80-69a8-4639-a21c-924c1661e3d2",
        "colab": {
          "base_uri": "https://localhost:8080/",
          "height": 279
        }
      },
      "source": [
        "import matplotlib.pyplot as plt\n",
        "\n",
        "def plot_graphs(history, string):\n",
        "  plt.plot(history.history[string])\n",
        "  #plt.plot(history.history['val_'+string])\n",
        "  plt.xlabel(\"Epochs\")\n",
        "  plt.ylabel(string)\n",
        "  plt.legend([string, 'val_'+string])\n",
        "  plt.show()\n",
        "  \n",
        "plot_graphs(history, \"accuracy\")"
      ],
      "execution_count": null,
      "outputs": [
        {
          "output_type": "display_data",
          "data": {
            "image/png": "[encoded data removed]",
            "text/plain": [
              "<Figure size 432x288 with 1 Axes>"
            ]
          },
          "metadata": {
            "tags": [],
            "needs_background": "light"
          }
        }
      ]
    },
    {
      "cell_type": "code",
      "metadata": {
        "id": "rxwlphlGQqen"
      },
      "source": [
        "#model.save(\"/content/drive/My Drive/nndl/best_model.hdf5\")"
      ],
      "execution_count": null,
      "outputs": []
    }
  ]
}